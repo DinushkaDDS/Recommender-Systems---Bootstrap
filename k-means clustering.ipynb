{
 "cells": [
  {
   "cell_type": "markdown",
   "source": [
    "## K- Means Clustering Implementation"
   ],
   "metadata": {}
  },
  {
   "cell_type": "markdown",
   "source": [
    "### Similarity measuring can be considered as one of the main parts in recommendations. This is generally a computationally expensive process and therefore it is better to segment the similar data into smaller groups before calculations. Clustering techniques can be used in this kind of scenarios."
   ],
   "metadata": {}
  },
  {
   "cell_type": "markdown",
   "source": [
    "> K means clustering is a unsupervised type ML algorithm.\r\n",
    "\r\n",
    "What happens in this algorithm is that, we are trying to find the position of given number of points(centroids) k with the sum of the distances between all items and their assigned\r\n",
    "centroids are as small as possible.\r\n",
    "\r\n",
    "In other simple terms,\r\n",
    "\r\n",
    "- You have a dataset.\r\n",
    "- You have predefined number of points(centroid).\r\n",
    "- You position these centroid in the dataset space such that, sum of distance from each point in the dataset to closest centroid is minimum.\r\n",
    "\r\n",
    "<center><image src=\"./images/K means.jpg\" width=\"300px\" /></center>"
   ],
   "metadata": {}
  },
  {
   "cell_type": "markdown",
   "source": [
    "Algorithm Implementation is as follows.\r\n",
    "\r\n",
    "* Selects k places as the centers of the clusters.\r\n",
    "* Loops over the following:\r\n",
    "    * For each data point in the set, finds the centroid with the shortest distance.\r\n",
    "    * When all points are assigned, calculates the sum of all the distances between\r\n",
    "        the item and its centroid.\r\n",
    "        * If the distance isn’t smaller than the previous run, returns the clusters.\r\n",
    "    * Moves each centroid into the center of the assigned cluster."
   ],
   "metadata": {}
  },
  {
   "cell_type": "code",
   "execution_count": 1,
   "source": [
    "# This function will randomly select given number of items from a dataset\r\n",
    "def generate_initial_centroids(data, k=3):\r\n",
    "    import random\r\n",
    "    return random.sample(data, k)\r\n",
    "\r\n",
    "\r\n",
    "generate_initial_centroids([5,4,6,21,2,3,1])"
   ],
   "outputs": [
    {
     "output_type": "execute_result",
     "data": {
      "text/plain": [
       "[21, 3, 5]"
      ]
     },
     "metadata": {},
     "execution_count": 1
    }
   ],
   "metadata": {}
  },
  {
   "cell_type": "code",
   "execution_count": 3,
   "source": [
    "# Function to get distance between 2 data points\r\n",
    "def get_distance(pnt1, pnt2):\r\n",
    "    import math\r\n",
    "    '''\r\n",
    "    Both pnt1 and pnt2 are same sized vectors depicting the features of 2 data points.\r\n",
    "    '''\r\n",
    "    dist = 0\r\n",
    "    for i in range(len(pnt1)):\r\n",
    "        dist += math.pow(pnt1[i]-pnt2[i], 2)\r\n",
    "    \r\n",
    "    return math.sqrt(dist)\r\n",
    "\r\n",
    "get_distance([1,0,1,1],[1,0,1,1])"
   ],
   "outputs": [
    {
     "output_type": "execute_result",
     "data": {
      "text/plain": [
       "0.0"
      ]
     },
     "metadata": {},
     "execution_count": 3
    }
   ],
   "metadata": {}
  },
  {
   "cell_type": "code",
   "execution_count": 4,
   "source": [
    "def assign_to_cluster(item, centroids):\r\n",
    "    return item, min(range(len(centroids)), key= lambda i: get_distance(item, centroids[i]))"
   ],
   "outputs": [],
   "metadata": {}
  },
  {
   "cell_type": "code",
   "execution_count": 12,
   "source": [
    "def vector_sum(pnt1, pnt2):\r\n",
    "    for i in range(len(pnt1)):\r\n",
    "        pnt1[i] = pnt1[i]+pnt2[i]\r\n",
    "    return pnt1"
   ],
   "outputs": [],
   "metadata": {}
  },
  {
   "cell_type": "markdown",
   "source": [
    "## Note this is not the original implementation nor this is the optimal implementation. Implementation is done for demonstration only."
   ],
   "metadata": {}
  },
  {
   "cell_type": "code",
   "execution_count": 22,
   "source": [
    "def K_Means(dataset, k=3):\r\n",
    "    import math\r\n",
    "    centroids = generate_initial_centroids(dataset, k)\r\n",
    "    \r\n",
    "    tot_dist = math.inf\r\n",
    "\r\n",
    "    while(True):\r\n",
    "\r\n",
    "        #Assign each datapoint to a centroid\r\n",
    "        assignments = [assign_to_cluster(i, centroids) for i in dataset]\r\n",
    "        \r\n",
    "        new_dist = 0\r\n",
    "        for assignment in assignments:\r\n",
    "            new_dist += get_distance(assignment[0], centroids[assignment[1]])\r\n",
    "\r\n",
    "        if(new_dist<tot_dist):\r\n",
    "            tot_dist = new_dist\r\n",
    "        else:\r\n",
    "            # return output\r\n",
    "            return assignments\r\n",
    "\r\n",
    "        centroids = []\r\n",
    "        # For each cluster\r\n",
    "        for cen in range(k):\r\n",
    "            # Get the points assigned to current cluster\r\n",
    "            cluster = [i[0] for i in assignments if i[1] == cen]\r\n",
    "            cent = [0]*len(cluster[0])\r\n",
    "\r\n",
    "            # get the total vector by adding up\r\n",
    "            for point in cluster:\r\n",
    "                cent = vector_sum(cent, point)\r\n",
    "\r\n",
    "            # get average (mid point)\r\n",
    "            cent = [k/len(cluster) for k in cent]\r\n",
    "            \r\n",
    "            # new centroids\r\n",
    "            centroids.append(cent)\r\n",
    "\r\n",
    "\r\n",
    "K_Means([[0,0],[0,1], [1,1],[1,0]], 2)"
   ],
   "outputs": [
    {
     "output_type": "execute_result",
     "data": {
      "text/plain": [
       "[([0, 0], 0), ([0, 1], 0), ([1, 1], 1), ([1, 0], 1)]"
      ]
     },
     "metadata": {},
     "execution_count": 22
    }
   ],
   "metadata": {}
  },
  {
   "cell_type": "markdown",
   "source": [
    "### Point to Note\r\n",
    "\r\n",
    "- It is important to do proper point initialization. Other wise will cause very bad clustering. There are many techniques available to fix this issue including point initializing in maximum density areas and max distances.\r\n",
    "- Identifying K value can be done by a method named \"elbow\" basicall run K means for several k values and find the K with minimum distance output."
   ],
   "metadata": {}
  },
  {
   "cell_type": "code",
   "execution_count": null,
   "source": [],
   "outputs": [],
   "metadata": {}
  }
 ],
 "metadata": {
  "orig_nbformat": 4,
  "language_info": {
   "name": "python",
   "version": "3.9.7",
   "mimetype": "text/x-python",
   "codemirror_mode": {
    "name": "ipython",
    "version": 3
   },
   "pygments_lexer": "ipython3",
   "nbconvert_exporter": "python",
   "file_extension": ".py"
  },
  "kernelspec": {
   "name": "python3",
   "display_name": "Python 3.9.7 64-bit"
  },
  "interpreter": {
   "hash": "f1058ac39a4b5cc6a2d664bf07a90cc7a0b869b1d28e3e4a0289bda448411850"
  }
 },
 "nbformat": 4,
 "nbformat_minor": 2
}