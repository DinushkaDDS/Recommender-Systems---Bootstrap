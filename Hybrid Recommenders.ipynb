{
 "cells": [
  {
   "cell_type": "markdown",
   "source": [
    "# **Hybrid Recommenders**\r\n",
    "\r\n",
    "\r\n",
    "In hybrid recommenders, we combine several types of earlier discussed methods. This helps to get better results while mitigating the each methods weakneses. Based on the data sources available for the system, we can build various types of recommenders and combine them to obtain better results.\r\n",
    "\r\n",
    "According the the `Practical recommender systems` book, hybrid recommenders have 3 types.\r\n",
    "\r\n",
    "1. Monolithic Hybrid\r\n",
    "2. Ensemble Recommenders\r\n",
    "3. Mixed Hybrid"
   ],
   "metadata": {}
  },
  {
   "cell_type": "markdown",
   "source": [
    "## Monolithic Hybrid\r\n",
    "\r\n",
    "In this type of recommenders, we combine parts from different algorithms to obtain better performance. For example we can have collabarative filtering based recommender which utilize a part of content based ratings to further enhance its recommendations.\r\n",
    "\r\n",
    "\r\n",
    "## Mixed Hybrid\r\n",
    "\r\n",
    "This type of recommenders dont do any mixing of algorithm parts as Monolithic recommenders. Instead it uses outputs from multiple recommenders and provide the union. Basically in here, from more peronalized recommendations to less personalized (like popularity based, region based) can be made to output recommendations. This technique is used because, generally personalized recommendations does not provide enough items for all user. In order to provide additional items in such situations, we can use mixed hybrids.\r\n",
    "\r\n",
    "\r\n",
    "## Ensemble Recommenders\r\n",
    "\r\n",
    "In ensemble models, group of recommenders act as one to produce recommendations.The difference between this and mixed model is that, mixed model always output all the results from all the combined models, but in ensemble that may not be the case.\r\n"
   ],
   "metadata": {}
  },
  {
   "cell_type": "markdown",
   "source": [
    "Other than above mentioned models, there are certain techniques which we can use to improve the recommendations.\r\n",
    "\r\n",
    "* Switching the active model based on conditions (one recommender model for new users, another one for long time users | change model based on regions etc.)\r\n",
    "\r\n",
    "* Weightage based model can be used to make one model's input more important. This is useful in scenarios where some types of recommendations are more effective (will depend on the domain, for example price-feature and content feature based hybrid model we may have to put more weight to price based recommender depending on the domain.)\r\n",
    "\r\n",
    "* Can use linear regression model to identify weight each model can have by making actual ratings \"Y\" and predicted ratings from each recommender as features \"X\".\r\n",
    "\r\n",
    "> ### There's a technique called `Feature Weighted Linear Stackng` which uses the weightage concept further and improve hybrid model results. It is ML based very interesting technique that rely on feature weighting for each recommender. "
   ],
   "metadata": {}
  },
  {
   "cell_type": "code",
   "execution_count": null,
   "source": [],
   "outputs": [],
   "metadata": {}
  }
 ],
 "metadata": {
  "orig_nbformat": 4,
  "language_info": {
   "name": "python"
  }
 },
 "nbformat": 4,
 "nbformat_minor": 2
}