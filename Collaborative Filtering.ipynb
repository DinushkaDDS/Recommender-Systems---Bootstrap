{
 "cells": [
  {
   "cell_type": "markdown",
   "source": [
    "## `Collabarative Filtering`\r\n",
    "\r\n",
    "Collabarative filtering is a umbrella name for recommendation techniques which consider user data to provide personalized recommendations.\r\n",
    "\r\n",
    "These techniques are based on the idea \"apes together strong!\" xD. Simply recommendations are based on the permise that people principally keep their tastes over time and that if they agreed with somebody in the past, they will likely to agree with them in the future as well."
   ],
   "metadata": {}
  },
  {
   "cell_type": "markdown",
   "source": [
    "One Collabarative filtering type is `Neighbourhood based filtering`. There are 2 techniques in this type.\r\n",
    "\r\n",
    "1. User based filtering - find simialar users and recommend items liked by them.\r\n",
    "2. Item based filtering - find item ratings and recommend similarly rated items."
   ],
   "metadata": {}
  },
  {
   "cell_type": "markdown",
   "source": [
    "To do the mentioned tasks we use a data structure(matrix) called `ratings matrix`. Basically this matrix include the each user and their ratings for respective item and our goal is to predict the missing values in this ratings matrix so that we can recommend those to users.\r\n",
    "\r\n",
    "\r\n",
    "<center><image src=\"./images/Recommendation pipeline.jpg\" width=\"500px\" /></center>\r\n"
   ],
   "metadata": {}
  },
  {
   "cell_type": "markdown",
   "source": [
    "In practice, one of the main concern in recommendation engines are similarity checking. Since this is a time consuming task given the number of items we need to consider is high, it is essential to precalculate the similarities before hand. And in fact Apparently Amazon used such offline calculation of similarity for their recommender systems.\r\n",
    "\r\n",
    "<pre style=\"color:yellow;\">\r\n",
    "    For each item in product catalog, I1\r\n",
    "        For each customer C who purchased I1\r\n",
    "            For each item I2 purchased by customer C\r\n",
    "                Record that a customer purchased I1 and I2\r\n",
    "            For each item I2\r\n",
    "                Compute the similarity between I1 and I2\r\n",
    "</pre>\r\n",
    "\r\n",
    "Following is a simple implementation to show the process of item - item recommendation"
   ],
   "metadata": {}
  },
  {
   "cell_type": "code",
   "execution_count": 75,
   "source": [
    "import pandas as pd\r\n",
    "import numpy as np\r\n",
    "\r\n",
    "\r\n",
    "rating_matrix = pd.DataFrame(data=np.array([ [5,4,5,3,3,2],[3,3,2,5,3,3],[None,4,5,3,3,2],\\\r\n",
    "                                    [2,None,2,None,2,3],[2,3,1,1,4,5],[2,3,1,1,5,5]]).T,\\\r\n",
    "                        columns=['item1','item2','item3','item4','item5','item6'],\\\r\n",
    "                        index=['user1','user2','user3','user4','user5','user6'])\r\n",
    "\r\n",
    "print(rating_matrix)"
   ],
   "outputs": [
    {
     "output_type": "stream",
     "name": "stdout",
     "text": [
      "      item1 item2 item3 item4 item5 item6\n",
      "user1     5     3  None     2     2     2\n",
      "user2     4     3     4  None     3     3\n",
      "user3     5     2     5     2     1     1\n",
      "user4     3     5     3  None     1     1\n",
      "user5     3     3     3     2     4     5\n",
      "user6     2     3     2     3     5     5\n"
     ]
    }
   ],
   "metadata": {}
  },
  {
   "cell_type": "code",
   "execution_count": 76,
   "source": [
    "pd.set_option('precision', 2)"
   ],
   "outputs": [],
   "metadata": {}
  },
  {
   "cell_type": "code",
   "execution_count": 77,
   "source": [
    "# %%timeit -n 100\r\n",
    "def get_adjusted_ratings(rating_matrix):\r\n",
    "    adjusted_matrix = rating_matrix.sub(rating_matrix.mean(axis=1), axis=0)\r\n",
    "    return adjusted_matrix\r\n",
    "\r\n",
    "get_adjusted_ratings(rating_matrix)"
   ],
   "outputs": [
    {
     "output_type": "execute_result",
     "data": {
      "text/plain": [
       "      item1 item2 item3 item4 item5 item6\n",
       "user1   2.2   0.2   NaN  -0.8  -0.8  -0.8\n",
       "user2   0.6  -0.4   0.6   NaN  -0.4  -0.4\n",
       "user3  2.33 -0.67  2.33 -0.67 -1.67 -1.67\n",
       "user4   0.4   2.4   0.4   NaN  -1.6  -1.6\n",
       "user5 -0.33 -0.33 -0.33 -1.33  0.67  1.67\n",
       "user6 -1.33 -0.33 -1.33 -0.33  1.67  1.67"
      ],
      "text/html": [
       "<div>\n",
       "<style scoped>\n",
       "    .dataframe tbody tr th:only-of-type {\n",
       "        vertical-align: middle;\n",
       "    }\n",
       "\n",
       "    .dataframe tbody tr th {\n",
       "        vertical-align: top;\n",
       "    }\n",
       "\n",
       "    .dataframe thead th {\n",
       "        text-align: right;\n",
       "    }\n",
       "</style>\n",
       "<table border=\"1\" class=\"dataframe\">\n",
       "  <thead>\n",
       "    <tr style=\"text-align: right;\">\n",
       "      <th></th>\n",
       "      <th>item1</th>\n",
       "      <th>item2</th>\n",
       "      <th>item3</th>\n",
       "      <th>item4</th>\n",
       "      <th>item5</th>\n",
       "      <th>item6</th>\n",
       "    </tr>\n",
       "  </thead>\n",
       "  <tbody>\n",
       "    <tr>\n",
       "      <th>user1</th>\n",
       "      <td>2.2</td>\n",
       "      <td>0.2</td>\n",
       "      <td>NaN</td>\n",
       "      <td>-0.8</td>\n",
       "      <td>-0.8</td>\n",
       "      <td>-0.8</td>\n",
       "    </tr>\n",
       "    <tr>\n",
       "      <th>user2</th>\n",
       "      <td>0.6</td>\n",
       "      <td>-0.4</td>\n",
       "      <td>0.6</td>\n",
       "      <td>NaN</td>\n",
       "      <td>-0.4</td>\n",
       "      <td>-0.4</td>\n",
       "    </tr>\n",
       "    <tr>\n",
       "      <th>user3</th>\n",
       "      <td>2.33</td>\n",
       "      <td>-0.67</td>\n",
       "      <td>2.33</td>\n",
       "      <td>-0.67</td>\n",
       "      <td>-1.67</td>\n",
       "      <td>-1.67</td>\n",
       "    </tr>\n",
       "    <tr>\n",
       "      <th>user4</th>\n",
       "      <td>0.4</td>\n",
       "      <td>2.4</td>\n",
       "      <td>0.4</td>\n",
       "      <td>NaN</td>\n",
       "      <td>-1.6</td>\n",
       "      <td>-1.6</td>\n",
       "    </tr>\n",
       "    <tr>\n",
       "      <th>user5</th>\n",
       "      <td>-0.33</td>\n",
       "      <td>-0.33</td>\n",
       "      <td>-0.33</td>\n",
       "      <td>-1.33</td>\n",
       "      <td>0.67</td>\n",
       "      <td>1.67</td>\n",
       "    </tr>\n",
       "    <tr>\n",
       "      <th>user6</th>\n",
       "      <td>-1.33</td>\n",
       "      <td>-0.33</td>\n",
       "      <td>-1.33</td>\n",
       "      <td>-0.33</td>\n",
       "      <td>1.67</td>\n",
       "      <td>1.67</td>\n",
       "    </tr>\n",
       "  </tbody>\n",
       "</table>\n",
       "</div>"
      ]
     },
     "metadata": {},
     "execution_count": 77
    }
   ],
   "metadata": {}
  },
  {
   "cell_type": "code",
   "execution_count": 145,
   "source": [
    "def adjusted_cosine_similarity(rating1, rating2):\r\n",
    "    from math import sqrt\r\n",
    "\r\n",
    "    totMulSum = 0\r\n",
    "    r1sqr = 0\r\n",
    "    r2sqr = 0\r\n",
    "    \r\n",
    "    for i in range(len(rating1)):\r\n",
    "\r\n",
    "        if(pd.isnull(rating1[i]) or pd.isnull(rating2[i])):\r\n",
    "            continue\r\n",
    "\r\n",
    "        i1 = round(rating1[i], 2)\r\n",
    "        i2 = round(rating2[i], 2)\r\n",
    "        totMulSum = totMulSum + (i1*i2)\r\n",
    "        r1sqr += i1**2\r\n",
    "        r2sqr += i2**2\r\n",
    "    # print(totMulSum)\r\n",
    "    # print(sqrt(r1sqr), sqrt(r2sqr))\r\n",
    "    cosine = totMulSum/( round(sqrt(r1sqr),2)*round(sqrt(r2sqr),2))\r\n",
    "\r\n",
    "    return cosine\r\n",
    "    "
   ],
   "outputs": [],
   "metadata": {}
  },
  {
   "cell_type": "code",
   "execution_count": 147,
   "source": [
    "# %%timeit -n 100\r\n",
    "def get_similarity_matrix(rating_matrix):\r\n",
    "\r\n",
    "    adjusted_ratings = get_adjusted_ratings(rating_matrix)\r\n",
    "    similarity_matrix = pd.DataFrame(np.ones_like(adjusted_ratings))\r\n",
    "\r\n",
    "    for i in range(len(adjusted_ratings)):\r\n",
    "        for j in range(len(adjusted_ratings)):\r\n",
    "            similarity_matrix[i][j] = adjusted_cosine_similarity(adjusted_ratings.iloc[:,i],\\\r\n",
    "                                                                    adjusted_ratings.iloc[:,j])\r\n",
    "\r\n",
    "        #     print(adjusted_cosine_similarity(adjusted_ratings.iloc[:,0],\\\r\n",
    "        #                                                             adjusted_ratings.iloc[:,1]))\r\n",
    "\r\n",
    "        #     break\r\n",
    "        # break\r\n",
    "\r\n",
    "    similarity_matrix.columns = rating_matrix.columns\r\n",
    "    similarity_matrix.index = rating_matrix.columns\r\n",
    "    return similarity_matrix\r\n",
    "\r\n",
    "get_similarity_matrix(rating_matrix)"
   ],
   "outputs": [
    {
     "output_type": "execute_result",
     "data": {
      "text/plain": [
       "      item1 item2 item3 item4 item5 item6\n",
       "item1   1.0  0.02   1.0 -0.41 -0.82 -0.76\n",
       "item2  0.02   1.0 -0.04  0.58 -0.44 -0.43\n",
       "item3   1.0 -0.04   1.0 -0.17 -0.87 -0.81\n",
       "item4 -0.41  0.58 -0.17   1.0  0.07  -0.2\n",
       "item5 -0.82 -0.44 -0.87  0.07   1.0  0.96\n",
       "item6 -0.76 -0.43 -0.81  -0.2  0.96   1.0"
      ],
      "text/html": [
       "<div>\n",
       "<style scoped>\n",
       "    .dataframe tbody tr th:only-of-type {\n",
       "        vertical-align: middle;\n",
       "    }\n",
       "\n",
       "    .dataframe tbody tr th {\n",
       "        vertical-align: top;\n",
       "    }\n",
       "\n",
       "    .dataframe thead th {\n",
       "        text-align: right;\n",
       "    }\n",
       "</style>\n",
       "<table border=\"1\" class=\"dataframe\">\n",
       "  <thead>\n",
       "    <tr style=\"text-align: right;\">\n",
       "      <th></th>\n",
       "      <th>item1</th>\n",
       "      <th>item2</th>\n",
       "      <th>item3</th>\n",
       "      <th>item4</th>\n",
       "      <th>item5</th>\n",
       "      <th>item6</th>\n",
       "    </tr>\n",
       "  </thead>\n",
       "  <tbody>\n",
       "    <tr>\n",
       "      <th>item1</th>\n",
       "      <td>1.0</td>\n",
       "      <td>0.02</td>\n",
       "      <td>1.0</td>\n",
       "      <td>-0.41</td>\n",
       "      <td>-0.82</td>\n",
       "      <td>-0.76</td>\n",
       "    </tr>\n",
       "    <tr>\n",
       "      <th>item2</th>\n",
       "      <td>0.02</td>\n",
       "      <td>1.0</td>\n",
       "      <td>-0.04</td>\n",
       "      <td>0.58</td>\n",
       "      <td>-0.44</td>\n",
       "      <td>-0.43</td>\n",
       "    </tr>\n",
       "    <tr>\n",
       "      <th>item3</th>\n",
       "      <td>1.0</td>\n",
       "      <td>-0.04</td>\n",
       "      <td>1.0</td>\n",
       "      <td>-0.17</td>\n",
       "      <td>-0.87</td>\n",
       "      <td>-0.81</td>\n",
       "    </tr>\n",
       "    <tr>\n",
       "      <th>item4</th>\n",
       "      <td>-0.41</td>\n",
       "      <td>0.58</td>\n",
       "      <td>-0.17</td>\n",
       "      <td>1.0</td>\n",
       "      <td>0.07</td>\n",
       "      <td>-0.2</td>\n",
       "    </tr>\n",
       "    <tr>\n",
       "      <th>item5</th>\n",
       "      <td>-0.82</td>\n",
       "      <td>-0.44</td>\n",
       "      <td>-0.87</td>\n",
       "      <td>0.07</td>\n",
       "      <td>1.0</td>\n",
       "      <td>0.96</td>\n",
       "    </tr>\n",
       "    <tr>\n",
       "      <th>item6</th>\n",
       "      <td>-0.76</td>\n",
       "      <td>-0.43</td>\n",
       "      <td>-0.81</td>\n",
       "      <td>-0.2</td>\n",
       "      <td>0.96</td>\n",
       "      <td>1.0</td>\n",
       "    </tr>\n",
       "  </tbody>\n",
       "</table>\n",
       "</div>"
      ]
     },
     "metadata": {},
     "execution_count": 147
    }
   ],
   "metadata": {}
  },
  {
   "cell_type": "code",
   "execution_count": 127,
   "source": [
    "# (2.2*0.2)+(0.6*-0.4)+(2.33*-0.67)+(0.4*2.4)+(-0.33*-0.3)+(-1.33*-0.3)"
   ],
   "outputs": [
    {
     "output_type": "execute_result",
     "data": {
      "text/plain": [
       "0.09689999999999999"
      ]
     },
     "metadata": {},
     "execution_count": 127
    }
   ],
   "metadata": {}
  },
  {
   "cell_type": "code",
   "execution_count": null,
   "source": [],
   "outputs": [],
   "metadata": {}
  },
  {
   "cell_type": "code",
   "execution_count": null,
   "source": [],
   "outputs": [],
   "metadata": {}
  }
 ],
 "metadata": {
  "orig_nbformat": 4,
  "language_info": {
   "name": "python",
   "version": "3.9.7",
   "mimetype": "text/x-python",
   "codemirror_mode": {
    "name": "ipython",
    "version": 3
   },
   "pygments_lexer": "ipython3",
   "nbconvert_exporter": "python",
   "file_extension": ".py"
  },
  "kernelspec": {
   "name": "python3",
   "display_name": "Python 3.9.7 64-bit"
  },
  "interpreter": {
   "hash": "f1058ac39a4b5cc6a2d664bf07a90cc7a0b869b1d28e3e4a0289bda448411850"
  }
 },
 "nbformat": 4,
 "nbformat_minor": 2
}