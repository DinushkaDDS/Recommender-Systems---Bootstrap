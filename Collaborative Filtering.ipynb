{
 "cells": [
  {
   "cell_type": "markdown",
   "source": [
    "## `Collabarative Filtering`\r\n",
    "\r\n",
    "Collabarative filtering is a umbrella name for recommendation techniques which consider user data to provide personalized recommendations.\r\n",
    "\r\n",
    "These techniques are based on the idea \"apes together strong!\" xD. Simply recommendations are based on the permise that people principally keep their tastes over time and that if they agreed with somebody in the past, they will likely to agree with them in the future as well."
   ],
   "metadata": {}
  },
  {
   "cell_type": "markdown",
   "source": [
    "One Collabarative filtering type is `Neighbourhood based filtering`. There are 2 techniques in this type.\r\n",
    "\r\n",
    "1. User based filtering - find simialar users and recommend items liked by them.\r\n",
    "2. Item based filtering - find item ratings and recommend similarly rated items."
   ],
   "metadata": {}
  },
  {
   "cell_type": "code",
   "execution_count": null,
   "source": [],
   "outputs": [],
   "metadata": {}
  }
 ],
 "metadata": {
  "orig_nbformat": 4,
  "language_info": {
   "name": "python"
  }
 },
 "nbformat": 4,
 "nbformat_minor": 2
}