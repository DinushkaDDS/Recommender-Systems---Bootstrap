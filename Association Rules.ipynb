{
 "cells": [
  {
   "cell_type": "markdown",
   "source": [
    "# Association Rules\r\n",
    "\r\n",
    "### Association rules are used in recommendation systems to recommend associated items.\r\n",
    "\r\n",
    "* For example:- when someone bought a pair of shoes we can recommend pair of socks to buy..!\r\n",
    "\r\n",
    "* Association rules are considered as non-personalized recommendations as they do not consider each individual's behavioural pattern.\r\n",
    "\r\n",
    "* Rather than recommending top 10 recommendations (as in most popular based on context), association rules can help to identify items which are closely related based on majority of people behavior.\r\n",
    "\r\n",
    "There are 2 major ratings/ statistics we use in association rules\r\n",
    "\r\n",
    "1. Confidence:  `(Number of times an item + an associated item occured)/ total number of times the item was occured` ----> `T(X AND Y)/T(X)`\r\n",
    "2. Support: `(Number of times an item + an associated item occured)/ total number of times all the events occured`  ---->   `T(X AND Y)/T()`\r\n",
    "\r\n",
    "These 2 metrices need to make sure that infrequent items are not getting recommended.\r\n"
   ],
   "metadata": {}
  },
  {
   "cell_type": "markdown",
   "source": [
    "### The procedure to create association rules are as follows.\r\n",
    "\r\n",
    "1. Define a minimum thresholds for support and confidence levels (mentioned above)\r\n",
    "2. Create a map(dictionary) of all items and count their occurances.\r\n",
    "3. Create a map of all the combinations of 2 items and count their occurances. eg: {(item1, item2): 25, (item2, item3): 53, ....}\r\n",
    "4. for each item in first map, search related pairs from the second map and calculate the confidence and support values.\r\n",
    "\r\n",
    "\r\n",
    "\r\n",
    "Assume that out main item/occurance data structure is as follows. <br>\r\n",
    "\r\n",
    "`{\r\n",
    "    \"001\":[item1, item2...],\r\n",
    "    \"002\":[item15, item221...],\r\n",
    "    \"003\":[item18, item326...],\r\n",
    "    \"004\":[item4453, item4532...],\r\n",
    "    \"005\":[item453, item24...],\r\n",
    "     ...\r\n",
    "}`"
   ],
   "metadata": {}
  },
  {
   "cell_type": "code",
   "execution_count": null,
   "source": [
    "# To get the item counts\r\n",
    "def get_itemCounts(itemSet_dictionary):\r\n",
    "    counts_of_items = {}\r\n",
    "    for idx, itemlist in itemSet_dictionary:\r\n",
    "        for item in itemlist:\r\n",
    "            if item not in counts_of_items:\r\n",
    "                counts_of_items[item] = 0\r\n",
    "            counts_of_items[item] += 1\r\n",
    "    \r\n",
    "    return counts_of_items"
   ],
   "outputs": [],
   "metadata": {}
  },
  {
   "cell_type": "code",
   "execution_count": null,
   "source": [
    "# To get the counts of each pairs\r\n",
    "def get_itemCominationCounts(itemSet_dictionary):\r\n",
    "    from itertools import permutations\r\n",
    "\r\n",
    "    counts_of_pairs = {}\r\n",
    "    for idx, itemlist in itemSet_dictionary:\r\n",
    "        for perm in permutations(itemlist, 2):\r\n",
    "            perm = frozenset(perm)\r\n",
    "            if perm not in counts_of_pairs:\r\n",
    "                counts_of_pairs[perm] = 0\r\n",
    "            counts_of_pairs[perm] += 1\r\n",
    "    \r\n",
    "    return counts_of_pairs"
   ],
   "outputs": [],
   "metadata": {}
  },
  {
   "cell_type": "code",
   "execution_count": null,
   "source": [
    "# This function will return the items associated with each other with respecive scores\r\n",
    "def calculate_association_rules(counts_of_items, counts_of_pairs, total_occurances):\r\n",
    "    asociation_rule_set = []\r\n",
    "    for item, count in counts_of_items.items():\r\n",
    "        for pair, pair_count in counts_of_pairs.items():\r\n",
    "            if(item.issubset(pair)):\r\n",
    "                associated_item = pair.difference(item)\r\n",
    "                support_metric = pair_count/total_occurances\r\n",
    "                confidence_metric = pair_count/count\r\n",
    "                asociation_rule_set.append((item, associated_item,\\\r\n",
    "                                    support_metric, confidence_metric))"
   ],
   "outputs": [],
   "metadata": {}
  }
 ],
 "metadata": {
  "orig_nbformat": 4,
  "language_info": {
   "name": "python",
   "version": "3.9.7",
   "mimetype": "text/x-python",
   "codemirror_mode": {
    "name": "ipython",
    "version": 3
   },
   "pygments_lexer": "ipython3",
   "nbconvert_exporter": "python",
   "file_extension": ".py"
  },
  "kernelspec": {
   "name": "python3",
   "display_name": "Python 3.9.7 64-bit"
  },
  "interpreter": {
   "hash": "f1058ac39a4b5cc6a2d664bf07a90cc7a0b869b1d28e3e4a0289bda448411850"
  }
 },
 "nbformat": 4,
 "nbformat_minor": 2
}