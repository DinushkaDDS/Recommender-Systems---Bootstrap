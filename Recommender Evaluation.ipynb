{
 "cells": [
  {
   "cell_type": "markdown",
   "source": [
    "># Evaluation and Testing of Recommendations"
   ],
   "metadata": {}
  },
  {
   "cell_type": "markdown",
   "source": [
    "Typical machine learning metrics cant be used in recommender systems due to their nature of task. Therefore in order to understand the performance of the recommendations (whether recommendations are good) we need to have different methodologies. Usually live system is the best way to understand this. But we need pointers to figure out the genaral direction of the recommendations during development as well."
   ],
   "metadata": {}
  },
  {
   "cell_type": "markdown",
   "source": [
    "One such method is called `coverage`. This answers whether all the users get a recommendation and does all the items get recommended. ie:- user coverage and content coverage.\r\n"
   ],
   "metadata": {}
  },
  {
   "cell_type": "code",
   "execution_count": null,
   "source": [],
   "outputs": [],
   "metadata": {}
  }
 ],
 "metadata": {
  "orig_nbformat": 4,
  "language_info": {
   "name": "python"
  }
 },
 "nbformat": 4,
 "nbformat_minor": 2
}