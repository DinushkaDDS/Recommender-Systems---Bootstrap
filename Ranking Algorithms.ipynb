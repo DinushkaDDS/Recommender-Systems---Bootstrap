{
 "cells": [
  {
   "cell_type": "markdown",
   "source": [
    "# **Learning to Rank (LTR) Algorithms**\r\n",
    "\r\n",
    "\r\n",
    "LTR type algorithms focus on ordering of items rather than predicting a rating like collabarative/item filtering recommenders. These techniques mainly comes from Information Retrieval systems (Search Engines) and therefore many concepts used in those fields can also be used in recommendation systems.\r\n",
    "\r\n",
    "\r\n",
    "> It is important to make the importance of a feature more prominent by feature engineering. (eg:- in distance based feature Closest one have high score while furthest ones have low score.) We can use min-max normalization/ inverse min-max normalization to achieve that.\r\n",
    "\r\n",
    "IN LTR algorithms, we rank the items based on feature importance (More simply we can think of it as feature based function to determine rank). Therefore for a given user related items list, we can order(rank) items so that most matching items comes first to that particular user by using LTR family algorithms.\r\n",
    "\r\n",
    "There are 3 main types of LTR algorithms.\r\n",
    "\r\n",
    "1. **Pointwise** - Same as earlier recommenders. Instead of ratings between some range, this type of algorithms generate a score for the given item which can be used for the ordering. (but practically speaking general ratings recommender can also be used ;P). \r\n",
    "\r\n",
    "2. **Pairwise** - Kinda acts as a binary classifier. Idea is it takes 2 items as inputs and return their ordering based on the criteria. (May be to use this like bubble sort to order the full item list, not entirely sure!)\r\n",
    "\r\n",
    "3. **Listwise** - In this type of algorithms, we look at whole items list to find their relative order. Also they have added benefit that top elements of ordering can have higher weightage compared to the bottom (depending on the algorithm). eg:- CoFiRank algorithm\r\n"
   ],
   "metadata": {}
  },
  {
   "cell_type": "markdown",
   "source": [
    "# Bayesian Personalized Ranking\r\n",
    "\r\n",
    "This is a Pairwise type ranking algorithm. To use this algorithm, first we need to transform the data in a specific way to reflect pair wise comparisons.\r\n",
    "\r\n",
    "Image from `Practical Recommendation Systems` book.\r\n",
    "<center><image src=\"./images/Data Transform for BPR.jpg\" width=\"500px\" /></center>\r\n",
    "\r\n",
    "We need to transform the data, like above for all the users to get the usable dataset which can be used with this algorithm.\r\n",
    "\r\n",
    "Main mathmatical concept used in this algorithm is Bayes Theorem. (function to get the value of given B happened probability of A happenning)\r\n",
    "\r\n",
    "Here in the context of ranking, we try to maximize the probability that given a ordering of items, having a model that could produce such ordering. Mathematical details behind this is bit complex to understand even if you know statistics to some extent. I am not going to put it in here, but if needed you can refer the explanation given in the source book.\r\n",
    "\r\n",
    "Anyway the function we need to maximize is as follows.\r\n",
    "\r\n",
    "<center><image src=\"./images/BPR function.jpg\" width=\"250\" /></center>\r\n",
    "\r\n",
    "where,\r\n",
    "<center><image src=\"./images/BPR function sup.jpg\" width=\"200px\" /></center>\r\n",
    "\r\n",
    "Theta is the model, and r values are the rating/score from prediction and original data.\r\n",
    "\r\n",
    "Though above equation and other parts are seemingly easy, when implementing it causes bit confusion. So I did not try to implement it even after going through a sample code. ;-("
   ],
   "metadata": {}
  }
 ],
 "metadata": {
  "orig_nbformat": 4,
  "language_info": {
   "name": "python",
   "version": "3.9.7",
   "mimetype": "text/x-python",
   "codemirror_mode": {
    "name": "ipython",
    "version": 3
   },
   "pygments_lexer": "ipython3",
   "nbconvert_exporter": "python",
   "file_extension": ".py"
  },
  "kernelspec": {
   "name": "python3",
   "display_name": "Python 3.9.7 64-bit"
  },
  "interpreter": {
   "hash": "f1058ac39a4b5cc6a2d664bf07a90cc7a0b869b1d28e3e4a0289bda448411850"
  }
 },
 "nbformat": 4,
 "nbformat_minor": 2
}